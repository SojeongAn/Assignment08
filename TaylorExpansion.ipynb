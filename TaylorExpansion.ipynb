{
 "cells": [
  {
   "cell_type": "markdown",
   "metadata": {},
   "source": [
    "This script demonstrates the first order Taylor expansion of a given function\n",
    "\n",
    "Name : Sojung An\n"
   ]
  },
  {
   "cell_type": "code",
   "execution_count": 1,
   "metadata": {},
   "outputs": [
    {
     "data": {
      "text/plain": [
       "<Figure size 640x480 with 150 Axes>"
      ]
     },
     "metadata": {},
     "output_type": "display_data"
    },
    {
     "data": {
      "text/plain": [
       "<Figure size 640x480 with 10 Axes>"
      ]
     },
     "metadata": {},
     "output_type": "display_data"
    }
   ],
   "source": [
    "import matplotlib.pyplot as plt\n",
    "import numpy as np\n",
    "\n",
    "file_data_train = \"mnist_train.csv\"\n",
    "file_data_test  = \"mnist_test.csv\"\n",
    "\n",
    "h_data_train    = open(file_data_train, \"r\")\n",
    "h_data_test     = open(file_data_test, \"r\")\n",
    "\n",
    "data_train      = h_data_train.readlines()\n",
    "data_test       = h_data_test.readlines()\n",
    "\n",
    "h_data_train.close()\n",
    "h_data_test.close()\n",
    "\n",
    "size_row    = 28    # height of the image\n",
    "size_col    = 28    # width of the image\n",
    "\n",
    "num_train   = len(data_train)   # number of training images\n",
    "num_test    = len(data_test)    # number of testing images\n",
    "\n",
    "#\n",
    "# normalize the values of the input data to be [0, 1]\n",
    "#\n",
    "def normalize(data):\n",
    "\n",
    "    data_normalized = (data - min(data)) / (max(data) - min(data))\n",
    "\n",
    "    return(data_normalized)\n",
    "\n",
    "#\n",
    "# example of distance function between two vectors x and y\n",
    "#\n",
    "def distance(x, y):\n",
    "\n",
    "    d = (x - y) ** 2\n",
    "    s = np.sum(d)\n",
    "    # r = np.sqrt(s)\n",
    "\n",
    "    return(s)\n",
    "\n",
    "#\n",
    "# make a matrix each column of which represents an images in a vector form \n",
    "#\n",
    "list_image_train    = np.empty((size_row * size_col, num_train), dtype=float)\n",
    "list_label_train    = np.empty(num_train, dtype=int)\n",
    "real_train_label    = np.empty(num_train, dtype=int)\n",
    "\n",
    "list_image_test     = np.empty((size_row * size_col, num_test), dtype=float)\n",
    "list_label_test     = np.empty(num_test, dtype=int)\n",
    "\n",
    "count = 0\n",
    "\n",
    "for line in data_train:\n",
    "\n",
    "    line_data   = line.split(',')\n",
    "    label       = line_data[0]\n",
    "    im_vector   = np.asfarray(line_data[1:])\n",
    "    im_vector   = normalize(im_vector)\n",
    "\n",
    "    list_label_train[count]     = label\n",
    "    real_train_label[count]     = label\n",
    "    list_image_train[:, count]  = im_vector    \n",
    "\n",
    "    count += 1\n",
    "\n",
    "count = 0\n",
    "\n",
    "for line in data_test:\n",
    "\n",
    "    line_data   = line.split(',')\n",
    "    label       = line_data[0]\n",
    "    im_vector   = np.asfarray(line_data[1:])\n",
    "    im_vector   = normalize(im_vector)\n",
    "\n",
    "    list_label_test[count]      = label\n",
    "    list_image_test[:, count]   = im_vector    \n",
    "\n",
    "    count += 1\n",
    "    \n",
    "# \n",
    "# plot first 150 images out of 10,000 with their labels\n",
    "# \n",
    "f1 = plt.figure(1)\n",
    "\n",
    "for i in range(150):\n",
    "\n",
    "    label       = list_label_train[i]\n",
    "    im_vector   = list_image_train[:, i]\n",
    "    im_matrix   = im_vector.reshape((size_row, size_col))\n",
    "\n",
    "    plt.subplot(10, 15, i+1)\n",
    "    plt.title(label)\n",
    "    plt.imshow(im_matrix, cmap='Greys', interpolation='None')\n",
    "\n",
    "    frame   = plt.gca()\n",
    "    frame.axes.get_xaxis().set_visible(False)\n",
    "    frame.axes.get_yaxis().set_visible(False)\n",
    "\n",
    "#plt.show()\n",
    "\n",
    "#\n",
    "# plot the average image of all the images for each digit\n",
    "#\n",
    "f2 = plt.figure(2)\n",
    "\n",
    "im_average  = np.zeros((size_row * size_col, 10), dtype=float)\n",
    "im_count    = np.zeros(10, dtype=int)\n",
    "\n",
    "for i in range(num_train):\n",
    "\n",
    "    im_average[:, list_label_train[i]] += list_image_train[:, i]\n",
    "    im_count[list_label_train[i]] += 1\n",
    "\n",
    "for i in range(10):\n",
    "\n",
    "    im_average[:, i] /= im_count[i]\n",
    "    \n",
    "    plt.subplot(2, 5, i+1)\n",
    "    plt.title(i)\n",
    "    plt.imshow(im_average[:,i].reshape((size_row, size_col)), cmap='Greys', interpolation='None') \n",
    "\n",
    "    frame   = plt.gca()\n",
    "    frame.axes.get_xaxis().set_visible(False)\n",
    "    frame.axes.get_yaxis().set_visible(False)\n",
    "\n",
    "plt.show()"
   ]
  },
  {
   "cell_type": "markdown",
   "metadata": {},
   "source": [
    "# Label is 0, return 1, label is not 0, return -1 "
   ]
  },
  {
   "cell_type": "code",
   "execution_count": 2,
   "metadata": {},
   "outputs": [],
   "source": [
    "def makevecY(vecY):\n",
    "    for i in range(0, len(vecY)):\n",
    "        if(int(vecY[i]) == 0):\n",
    "            vecY[i] = 1 # label == 0, return 1\n",
    "        else:\n",
    "            vecY[i] = -1 # label != 0, return -1\n",
    "    return vecY"
   ]
  },
  {
   "cell_type": "markdown",
   "metadata": {},
   "source": [
    "# Make Convolution Feature: 5 by 5"
   ]
  },
  {
   "cell_type": "code",
   "execution_count": 3,
   "metadata": {},
   "outputs": [],
   "source": [
    "def makevecX(vecX):\n",
    "    matrix = []\n",
    "    for i in range(len(vecX)):\n",
    "        matrix_ = vecX[i].reshape((size_row, size_col))\n",
    "        matrix_ = filt(matrix_)\n",
    "        matrix_ = np.ravel(matrix_, order='C')\n",
    "        matrix.append(matrix_)\n",
    "    return matrix"
   ]
  },
  {
   "cell_type": "code",
   "execution_count": 4,
   "metadata": {},
   "outputs": [],
   "source": [
    "from scipy import signal\n",
    "def filt(matrix):\n",
    "    kernel = np.array([[ -1, -1, -1, -1, -1],[-1,  2,  2,  2, -1],[-1,  2,  8,  2, -1],[-1,  2,  2,  2, -1],[-1, -1, -1, -1, -1]])\n",
    "    matrix = signal.convolve2d(matrix, kernel, boundary='symm', mode='same')\n",
    "    return matrix"
   ]
  },
  {
   "cell_type": "markdown",
   "metadata": {},
   "source": [
    "# Least Square Approximation: $ W = (X^T X)^{-1} X^T y $ "
   ]
  },
  {
   "cell_type": "code",
   "execution_count": 5,
   "metadata": {},
   "outputs": [],
   "source": [
    "def computeApproximation(vecX,vecY):\n",
    "    vecX = np.mat(vecX)\n",
    "    vecY = np.mat(vecY).T\n",
    "    xTx = vecX.T * vecX\n",
    "    if(np.linalg.det(xTx) == 0.0): # if Singular function, return \n",
    "        print(\"This matrix is singular\")\n",
    "        return\n",
    "    weight = xTx.I * (vecX.T * vecY) # weight\n",
    "    return weight"
   ]
  },
  {
   "cell_type": "markdown",
   "metadata": {},
   "source": [
    "# After training, return result of the test data"
   ]
  },
  {
   "cell_type": "code",
   "execution_count": 8,
   "metadata": {},
   "outputs": [],
   "source": [
    "def computeTrain(trainvecX, trainvecY, testvecX, testvecY):\n",
    "    matrixX = makevecX(trainvecX)\n",
    "    matrixY = makevecY(trainvecY)\n",
    "    weight = computeApproximation(matrixX, matrixY)\n",
    "    matrixtestX = makevecX(testvecX)\n",
    "    matrixtestY =  makevecY(testvecY)\n",
    "    result = matrixtestX*weight\n",
    "    return result, matrixtestY"
   ]
  },
  {
   "cell_type": "code",
   "execution_count": 9,
   "metadata": {},
   "outputs": [
    {
     "name": "stderr",
     "output_type": "stream",
     "text": [
      "C:\\Users\\My\\Anaconda3\\lib\\site-packages\\numpy\\linalg\\linalg.py:1874: RuntimeWarning: overflow encountered in det\n",
      "  r = _umath_linalg.det(a, signature=signature)\n"
     ]
    }
   ],
   "source": [
    "result, matrixtestY = computeTrain(list_image_train.T, list_label_train, list_image_test.T, list_label_test)"
   ]
  },
  {
   "cell_type": "markdown",
   "metadata": {},
   "source": [
    "# Function of Binary Classification"
   ]
  },
  {
   "cell_type": "markdown",
   "metadata": {},
   "source": [
    "True Positive = result label = 1, real label = 1\n",
    "\n",
    "False Postive = result label = 1, real label = -1\n",
    "\n",
    "True Negative = result label = -1, real label = -1\n",
    "\n",
    "False Negative = result label = -1, real label = 1"
   ]
  },
  {
   "cell_type": "code",
   "execution_count": 49,
   "metadata": {},
   "outputs": [],
   "source": [
    "def binaryClassifier(result, matrixtestY, testvecX):\n",
    "    FN = []; FP = []; TN = []; TP = []\n",
    "    for i in range(0, len(result)):\n",
    "        if(float(result[i]) > 0):\n",
    "            if(int(matrixtestY[i]) == 1):\n",
    "                TP.append(testvecX[i])\n",
    "            else:\n",
    "                FP.append(testvecX[i])\n",
    "        else:\n",
    "            if(int(matrixtestY[i]) == 1):\n",
    "                FN.append(testvecX[i])\n",
    "            else:\n",
    "                TN.append(testvecX[i])\n",
    "    return FN, FP, TN, TP"
   ]
  },
  {
   "cell_type": "code",
   "execution_count": 53,
   "metadata": {},
   "outputs": [],
   "source": [
    "FN, FP, TN, TP = binaryClassifier(result, matrixtestY, list_image_test.T)"
   ]
  },
  {
   "cell_type": "markdown",
   "metadata": {},
   "source": [
    "# Compute Accuracy"
   ]
  },
  {
   "cell_type": "code",
   "execution_count": 84,
   "metadata": {},
   "outputs": [
    {
     "name": "stdout",
     "output_type": "stream",
     "text": [
      "Accuracy:  50.24999999999999\n"
     ]
    }
   ],
   "source": [
    "accuracy = ((len(TN)+len(TP))/10000)*100\n",
    "print(\"Accuracy: \",accuracy)"
   ]
  },
  {
   "cell_type": "markdown",
   "metadata": {},
   "source": [
    "# Compute Average FN, FP, TN, TP"
   ]
  },
  {
   "cell_type": "code",
   "execution_count": 75,
   "metadata": {},
   "outputs": [],
   "source": [
    "def computeMin(vec):\n",
    "    vec = np.mat(vec)\n",
    "    mean_ = np.mean(vec, axis=0)\n",
    "    return mean_"
   ]
  },
  {
   "cell_type": "markdown",
   "metadata": {},
   "source": [
    "# Visualization "
   ]
  },
  {
   "cell_type": "code",
   "execution_count": 83,
   "metadata": {},
   "outputs": [
    {
     "data": {
      "text/plain": [
       "(-0.5, 27.5, 27.5, -0.5)"
      ]
     },
     "execution_count": 83,
     "metadata": {},
     "output_type": "execute_result"
    },
    {
     "data": {
      "image/png": "[encoded data removed]",
      "text/plain": [
       "<Figure size 432x288 with 4 Axes>"
      ]
     },
     "metadata": {},
     "output_type": "display_data"
    }
   ],
   "source": [
    "f2 = plt.figure(2)\n",
    "\n",
    "im_average  = np.zeros((size_row * size_col, 10), dtype=float)\n",
    "im_count    = np.zeros(10, dtype=int)\n",
    "\n",
    "\n",
    "P1 = plt.subplot(2, 2, 1)\n",
    "P1.set_title('False Negative')\n",
    "im_average = computeMin(FN)\n",
    "plt.imshow(im_average.reshape((size_row, size_col)), cmap='Greys', interpolation='None') \n",
    "plt.axis('off')\n",
    "\n",
    "P2 = plt.subplot(2, 2, 2)\n",
    "P2.set_title('True Negative')\n",
    "im_average = computeMin(TN)\n",
    "plt.imshow(im_average.reshape((size_row, size_col)), cmap='Greys', interpolation='None') \n",
    "plt.axis('off')\n",
    "\n",
    "P3 = plt.subplot(2, 2, 3)\n",
    "P3.set_title('False Positive')\n",
    "im_average = computeMin(FP)\n",
    "plt.imshow(im_average.reshape((size_row, size_col)), cmap='Greys', interpolation='None') \n",
    "plt.axis('off')\n",
    "\n",
    "P4 = plt.subplot(2, 2, 4)\n",
    "P4.set_title('True Positive')\n",
    "im_average = computeMin(TP)\n",
    "plt.imshow(im_average.reshape((size_row, size_col)), cmap='Greys', interpolation='None') \n",
    "plt.axis('off')"
   ]
  }
 ],
 "metadata": {
  "kernelspec": {
   "display_name": "Python 3",
   "language": "python",
   "name": "python3"
  },
  "language_info": {
   "codemirror_mode": {
    "name": "ipython",
    "version": 3
   },
   "file_extension": ".py",
   "mimetype": "text/x-python",
   "name": "python",
   "nbconvert_exporter": "python",
   "pygments_lexer": "ipython3",
   "version": "3.6.5"
  }
 },
 "nbformat": 4,
 "nbformat_minor": 2
}
